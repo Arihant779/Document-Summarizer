{
 "cells": [
  {
   "cell_type": "code",
   "execution_count": 6,
   "metadata": {},
   "outputs": [],
   "source": [
    "from transformers import pipeline\n",
    "import spacy\n",
    "import networkx as nx\n",
    "from pyvis.network import Network\n"
   ]
  },
  {
   "cell_type": "code",
   "execution_count": 7,
   "metadata": {},
   "outputs": [],
   "source": [
    "text = \"In a tiny village, a curious girl named Anaya discovered a magical, titleless book in the old library. As she read, she was transported into a world of enchanted forests and talking animals, meeting a brave explorer named Aiden. Together, they embarked on thrilling adventures, solving ancient riddles and rescuing kingdoms. When it was time to return, Aiden reminded Anaya that the magic was always within her. Back in the library, Anaya shared her tales with the villagers, inspiring them to dream and explore, keeping the magic alive in their hearts.\""
   ]
  },
  {
   "cell_type": "code",
   "execution_count": 8,
   "metadata": {},
   "outputs": [
    {
     "name": "stderr",
     "output_type": "stream",
     "text": [
      "No model was supplied, defaulted to google-t5/t5-small and revision d769bba (https://huggingface.co/google-t5/t5-small).\n",
      "Using a pipeline without specifying a model name and revision in production is not recommended.\n",
      "All PyTorch model weights were used when initializing TFT5ForConditionalGeneration.\n",
      "\n",
      "All the weights of TFT5ForConditionalGeneration were initialized from the PyTorch model.\n",
      "If your task is similar to the task the model of the checkpoint was trained on, you can already use TFT5ForConditionalGeneration for predictions without further training.\n"
     ]
    },
    {
     "name": "stdout",
     "output_type": "stream",
     "text": [
      "Summary: a girl named Anaya discovered a book in the old library in a tiny village . she was transported into a world of enchanted forests and talking animals . when it was time to return, she shared her tales with the villagers .\n"
     ]
    }
   ],
   "source": [
    "\n",
    "# Step 1: Text Summarization\n",
    "summarizer = pipeline('summarization')\n",
    "summary = summarizer(text, max_length=100, min_length=30, do_sample=False)[0]['summary_text']\n",
    "print(\"Summary:\", summary)\n"
   ]
  },
  {
   "cell_type": "code",
   "execution_count": 9,
   "metadata": {},
   "outputs": [
    {
     "name": "stdout",
     "output_type": "stream",
     "text": [
      "Relationships: [('discovered', 'girl'), ('discovered', 'book'), ('in', 'library'), ('in', 'village'), ('into', 'world'), ('of', 'forests'), ('was', 'it'), ('was', 'time'), ('shared', 'she'), ('shared', 'tales'), ('with', 'villagers')]\n",
      "Warning: When  cdn_resources is 'local' jupyter notebook has issues displaying graphics on chrome/safari. Use cdn_resources='in_line' or cdn_resources='remote' if you have issues viewing graphics in a notebook.\n",
      "mind_map.html\n"
     ]
    },
    {
     "data": {
      "text/html": [
       "\n",
       "        <iframe\n",
       "            width=\"100%\"\n",
       "            height=\"600px\"\n",
       "            src=\"mind_map.html\"\n",
       "            frameborder=\"0\"\n",
       "            allowfullscreen\n",
       "            \n",
       "        ></iframe>\n",
       "        "
      ],
      "text/plain": [
       "<IPython.lib.display.IFrame at 0x7c13341d4e90>"
      ]
     },
     "execution_count": 9,
     "metadata": {},
     "output_type": "execute_result"
    }
   ],
   "source": [
    "\n",
    "# Step 2: Dependency Parsing\n",
    "nlp = spacy.load('en_core_web_sm')\n",
    "doc = nlp(summary)\n",
    "relationships = []\n",
    "for token in doc:\n",
    "    if token.dep_ in (\"nsubj\", \"dobj\", \"iobj\", \"pobj\", \"attr\"):\n",
    "        relationships.append((token.head.text, token.text))\n",
    "print(\"Relationships:\", relationships)\n",
    "\n",
    "# Step 3: Concept Mapping with Relationships\n",
    "G = nx.DiGraph()\n",
    "for rel in relationships:\n",
    "    G.add_edge(rel[0], rel[1])\n",
    "\n",
    "# Step 4: Interactive Visualization with Pyvis\n",
    "net = Network(notebook=True, directed=True)\n",
    "for node in G.nodes():\n",
    "    net.add_node(node, label=node)\n",
    "for edge in G.edges():\n",
    "    net.add_edge(edge[0], edge[1])\n",
    "net.show(\"mind_map.html\")\n"
   ]
  }
 ],
 "metadata": {
  "kernelspec": {
   "display_name": "tf-gpu",
   "language": "python",
   "name": "python3"
  },
  "language_info": {
   "codemirror_mode": {
    "name": "ipython",
    "version": 3
   },
   "file_extension": ".py",
   "mimetype": "text/x-python",
   "name": "python",
   "nbconvert_exporter": "python",
   "pygments_lexer": "ipython3",
   "version": "3.11.9"
  }
 },
 "nbformat": 4,
 "nbformat_minor": 2
}
