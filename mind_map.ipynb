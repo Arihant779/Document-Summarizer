{
 "cells": [
  {
   "cell_type": "code",
   "execution_count": 7,
   "metadata": {},
   "outputs": [],
   "source": [
    "from transformers import pipeline\n",
    "from sklearn.feature_extraction.text import TfidfVectorizer\n",
    "import networkx as nx\n",
    "from pyvis.network import Network\n"
   ]
  },
  {
   "cell_type": "code",
   "execution_count": 10,
   "metadata": {},
   "outputs": [],
   "source": [
    "text = \"a mother fed her child an apple and the father was working in the field\""
   ]
  },
  {
   "cell_type": "code",
   "execution_count": 14,
   "metadata": {},
   "outputs": [
    {
     "name": "stderr",
     "output_type": "stream",
     "text": [
      "No model was supplied, defaulted to google-t5/t5-small and revision d769bba (https://huggingface.co/google-t5/t5-small).\n",
      "Using a pipeline without specifying a model name and revision in production is not recommended.\n",
      "All PyTorch model weights were used when initializing TFT5ForConditionalGeneration.\n",
      "\n",
      "All the weights of TFT5ForConditionalGeneration were initialized from the PyTorch model.\n",
      "If your task is similar to the task the model of the checkpoint was trained on, you can already use TFT5ForConditionalGeneration for predictions without further training.\n",
      "Your max_length is set to 100, but your input_length is only 19. Since this is a summarization task, where outputs shorter than the input are typically wanted, you might consider decreasing max_length manually, e.g. summarizer('...', max_length=9)\n"
     ]
    },
    {
     "name": "stdout",
     "output_type": "stream",
     "text": [
      "Summary: a mother fed her child an apple and the father was working in the field . the father fed her son an apple . he was working on the field in the fields of agriculture .\n",
      "Keywords: ['agriculture' 'apple' 'child' 'father' 'fed' 'field' 'fields' 'mother'\n",
      " 'son' 'working']\n",
      "Warning: When  cdn_resources is 'local' jupyter notebook has issues displaying graphics on chrome/safari. Use cdn_resources='in_line' or cdn_resources='remote' if you have issues viewing graphics in a notebook.\n",
      "mind_map.html\n"
     ]
    },
    {
     "data": {
      "text/html": [
       "\n",
       "        <iframe\n",
       "            width=\"100%\"\n",
       "            height=\"600px\"\n",
       "            src=\"mind_map.html\"\n",
       "            frameborder=\"0\"\n",
       "            allowfullscreen\n",
       "            \n",
       "        ></iframe>\n",
       "        "
      ],
      "text/plain": [
       "<IPython.lib.display.IFrame at 0x7a13b4f6a9d0>"
      ]
     },
     "execution_count": 14,
     "metadata": {},
     "output_type": "execute_result"
    }
   ],
   "source": [
    "\n",
    "# Step 1: Text Summarization\n",
    "summarizer = pipeline('summarization')\n",
    "summary = summarizer(text, max_length=100, min_length=30, do_sample=False)[0]['summary_text']\n",
    "print(\"Summary:\", summary)\n",
    "\n",
    "# Step 2: Key Concept Extraction\n",
    "vectorizer = TfidfVectorizer(max_features=10, stop_words='english')\n",
    "X = vectorizer.fit_transform([summary])\n",
    "keywords = vectorizer.get_feature_names_out()\n",
    "print(\"Keywords:\", keywords)\n",
    "\n",
    "# Step 3: Concept Mapping with NetworkX\n",
    "G = nx.Graph()\n",
    "for keyword in keywords:\n",
    "    G.add_node(keyword)\n",
    "for i in range(len(keywords)):\n",
    "    G.add_edge(keywords[i], keywords[(i + 1) % len(keywords)])\n",
    "\n",
    "# Step 4: Interactive Visualization with Pyvis\n",
    "net = Network(notebook=True)\n",
    "for node in G.nodes():\n",
    "    net.add_node(node, label=node)\n",
    "for edge in G.edges():\n",
    "    net.add_edge(edge[0], edge[1])\n",
    "net.show(\"mind_map.html\")\n"
   ]
  }
 ],
 "metadata": {
  "kernelspec": {
   "display_name": "tf-gpu",
   "language": "python",
   "name": "python3"
  },
  "language_info": {
   "codemirror_mode": {
    "name": "ipython",
    "version": 3
   },
   "file_extension": ".py",
   "mimetype": "text/x-python",
   "name": "python",
   "nbconvert_exporter": "python",
   "pygments_lexer": "ipython3",
   "version": "3.11.9"
  }
 },
 "nbformat": 4,
 "nbformat_minor": 2
}
