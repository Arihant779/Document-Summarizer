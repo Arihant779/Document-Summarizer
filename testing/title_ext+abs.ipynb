{
 "cells": [
  {
   "cell_type": "code",
   "execution_count": 3,
   "metadata": {},
   "outputs": [
    {
     "name": "stdout",
     "output_type": "stream",
     "text": [
      "Keywords: anne diary diaries amanda write writing writes reprint ii frank iii word words make makes making\n"
     ]
    },
    {
     "name": "stderr",
     "output_type": "stream",
     "text": [
      "Special tokens have been added in the vocabulary, make sure the associated word embeddings are fine-tuned or trained.\n"
     ]
    },
    {
     "name": "stdout",
     "output_type": "stream",
     "text": [
      "Generated Title: compare what Anne writes to what she writes in her diary. compare\n"
     ]
    }
   ],
   "source": [
    "import fitz  # PyMuPDF\n",
    "from transformers import pipeline, T5Tokenizer, T5ForConditionalGeneration\n",
    "import torch\n",
    "from summa import keywords, summarizer\n",
    "\n",
    "def extract_text_from_pdf(pdf_path):\n",
    "    doc = fitz.open(pdf_path)\n",
    "    text = \"\"\n",
    "    for page_num in range(len(doc)):\n",
    "        page = doc.load_page(page_num)\n",
    "        text += page.get_text()\n",
    "    return text\n",
    "\n",
    "def extract_keywords_and_sentences(text):\n",
    "    key_words = keywords.keywords(text, words=10).split('\\n')\n",
    "    important_sentences = summarizer.summarize(text, words=100)\n",
    "    return key_words, important_sentences\n",
    "\n",
    "def generate_title(important_sentences):\n",
    "    # Check if CUDA is available and use it if possible\n",
    "    device = torch.device(\"cuda\" if torch.cuda.is_available() else \"cpu\")\n",
    "    model_name = \"t5-base\"\n",
    "    tokenizer = T5Tokenizer.from_pretrained(model_name)\n",
    "    model = T5ForConditionalGeneration.from_pretrained(model_name).to(device)\n",
    "\n",
    "    inputs = tokenizer.encode(\"summarize: \" + important_sentences, return_tensors=\"pt\", max_length=512, truncation=True).to(device)\n",
    "    outputs = model.generate(inputs, max_length=15, min_length=5, length_penalty=5.0, num_beams=4, early_stopping=True)\n",
    "    title = tokenizer.decode(outputs[0], skip_special_tokens=True)\n",
    "    \n",
    "    return title\n",
    "\n",
    "def main(pdf_path):\n",
    "    text = extract_text_from_pdf(pdf_path)\n",
    "    key_words, important_sentences = extract_keywords_and_sentences(text)\n",
    "    print(f\"Keywords: {' '.join(key_words)}\")\n",
    "    title = generate_title(important_sentences)\n",
    "    return title\n",
    "\n",
    "if __name__ == \"__main__\":\n",
    "    pdf_path = \"/home/arunav/Downloads/jeff104.pdf\"\n",
    "    title = main(pdf_path)\n",
    "    print(\"Generated Title:\", title)\n"
   ]
  }
 ],
 "metadata": {
  "kernelspec": {
   "display_name": "tf-gpu",
   "language": "python",
   "name": "python3"
  },
  "language_info": {
   "codemirror_mode": {
    "name": "ipython",
    "version": 3
   },
   "file_extension": ".py",
   "mimetype": "text/x-python",
   "name": "python",
   "nbconvert_exporter": "python",
   "pygments_lexer": "ipython3",
   "version": "3.11.9"
  }
 },
 "nbformat": 4,
 "nbformat_minor": 2
}
