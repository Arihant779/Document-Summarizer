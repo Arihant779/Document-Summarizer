{
 "cells": [
  {
   "cell_type": "code",
   "execution_count": 1,
   "metadata": {},
   "outputs": [
    {
     "name": "stderr",
     "output_type": "stream",
     "text": [
      "/home/arunav/.conda/envs/tf-gpu/lib/python3.11/site-packages/tqdm/auto.py:21: TqdmWarning: IProgress not found. Please update jupyter and ipywidgets. See https://ipywidgets.readthedocs.io/en/stable/user_install.html\n",
      "  from .autonotebook import tqdm as notebook_tqdm\n",
      "2024-07-13 22:11:05.820475: I tensorflow/core/util/port.cc:113] oneDNN custom operations are on. You may see slightly different numerical results due to floating-point round-off errors from different computation orders. To turn them off, set the environment variable `TF_ENABLE_ONEDNN_OPTS=0`.\n",
      "2024-07-13 22:11:06.069835: I tensorflow/core/platform/cpu_feature_guard.cc:210] This TensorFlow binary is optimized to use available CPU instructions in performance-critical operations.\n",
      "To enable the following instructions: AVX2 AVX512F AVX512_VNNI AVX512_BF16 FMA, in other operations, rebuild TensorFlow with the appropriate compiler flags.\n",
      "2024-07-13 22:11:07.140891: W tensorflow/compiler/tf2tensorrt/utils/py_utils.cc:38] TF-TRT Warning: Could not find TensorRT\n"
     ]
    }
   ],
   "source": [
    "import fitz  # PyMuPDF\n",
    "from transformers import pipeline"
   ]
  },
  {
   "cell_type": "code",
   "execution_count": 18,
   "metadata": {},
   "outputs": [],
   "source": [
    "def extract_text_from_pdf(pdf_path):\n",
    "    doc = fitz.open(pdf_path)\n",
    "    text = \"\"\n",
    "    for page_num in range(len(doc)):\n",
    "        page = doc.load_page(page_num)\n",
    "        text += page.get_text()\n",
    "    return text\n",
    "\n",
    "def chunk_text(text, max_chunk_size=1000):\n",
    "    chunks = []\n",
    "    current_chunk = \"\"\n",
    "    for word in text.split():\n",
    "        if len(current_chunk) + len(word) + 1 > max_chunk_size:\n",
    "            chunks.append(current_chunk)\n",
    "            current_chunk = word\n",
    "        else:\n",
    "            if current_chunk:\n",
    "                current_chunk += \" \" + word\n",
    "            else:\n",
    "                current_chunk = word\n",
    "    if current_chunk:\n",
    "        chunks.append(current_chunk)\n",
    "    return chunks\n",
    "\n",
    "def summarize_text(chunks, summarizer):\n",
    "    summaries = []\n",
    "    for chunk in chunks:\n",
    "        summary = summarizer(chunk, max_length=50, min_length=10, do_sample=False)\n",
    "        summaries.append(summary[0]['summary_text'])\n",
    "    return \" \".join(summaries)\n",
    "\n",
    "def generate_title(text):\n",
    "    summarizer = pipeline(\"summarization\", model=\"google/pegasus-xsum\", device=0)\n",
    "    chunks = chunk_text(text)\n",
    "    summary = summarize_text(chunks, summarizer)\n",
    "    title = summarizer(summary, max_length=15, min_length=5, do_sample=False)\n",
    "    return title[0]['summary_text']"
   ]
  },
  {
   "cell_type": "code",
   "execution_count": 19,
   "metadata": {},
   "outputs": [
    {
     "name": "stderr",
     "output_type": "stream",
     "text": [
      "Some weights of PegasusForConditionalGeneration were not initialized from the model checkpoint at google/pegasus-xsum and are newly initialized: ['model.decoder.embed_positions.weight', 'model.encoder.embed_positions.weight']\n",
      "You should probably TRAIN this model on a down-stream task to be able to use it for predictions and inference.\n"
     ]
    },
    {
     "name": "stdout",
     "output_type": "stream",
     "text": [
      "Generated Title: In our series of letters from African journalists, novelist and writer Col\n"
     ]
    }
   ],
   "source": [
    "\n",
    "def main(pdf_path):\n",
    "    text = extract_text_from_pdf(pdf_path)\n",
    "    title = generate_title(text)\n",
    "    return title\n",
    "\n",
    "if __name__ == \"__main__\":\n",
    "    pdf_path = \"/home/arunav/Downloads/jeff103.pdf\"\n",
    "    title = main(pdf_path)\n",
    "    print(\"Generated Title:\", title)\n"
   ]
  }
 ],
 "metadata": {
  "kernelspec": {
   "display_name": "tf-gpu",
   "language": "python",
   "name": "python3"
  },
  "language_info": {
   "codemirror_mode": {
    "name": "ipython",
    "version": 3
   },
   "file_extension": ".py",
   "mimetype": "text/x-python",
   "name": "python",
   "nbconvert_exporter": "python",
   "pygments_lexer": "ipython3",
   "version": "3.11.9"
  }
 },
 "nbformat": 4,
 "nbformat_minor": 2
}
