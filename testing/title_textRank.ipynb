{
 "cells": [
  {
   "cell_type": "code",
   "execution_count": 5,
   "metadata": {},
   "outputs": [],
   "source": [
    "import fitz  # PyMuPDF\n",
    "from transformers import pipeline\n",
    "import torch\n",
    "from summa import keywords"
   ]
  },
  {
   "cell_type": "code",
   "execution_count": 6,
   "metadata": {},
   "outputs": [],
   "source": [
    "def extract_text_from_pdf(pdf_path):\n",
    "    doc = fitz.open(pdf_path)\n",
    "    text = \"\"\n",
    "    for page_num in range(len(doc)):\n",
    "        page = doc.load_page(page_num)\n",
    "        text += page.get_text()\n",
    "    return text\n",
    "\n",
    "def extract_keywords(text):\n",
    "    key_words = keywords.keywords(text, words=10).split('\\n')\n",
    "    return \" \".join(key_words)\n",
    "\n",
    "def generate_title(text):\n",
    "    # Check if CUDA is available and use it if possible\n",
    "    device = 0 if torch.cuda.is_available() else -1\n",
    "    summarizer = pipeline(\"summarization\", model=\"facebook/bart-large-cnn\", device=device)\n",
    "    \n",
    "    # Extract keywords and summarize them\n",
    "    key_words = extract_keywords(text)\n",
    "    summary = summarizer(key_words, max_length=15, min_length=5, do_sample=True)\n",
    "    return summary[0]['summary_text']"
   ]
  },
  {
   "cell_type": "code",
   "execution_count": 8,
   "metadata": {},
   "outputs": [
    {
     "name": "stdout",
     "output_type": "stream",
     "text": [
      "Generated Title: Wing means meanings meaning mean aeroplane aeroplanes sea\n"
     ]
    }
   ],
   "source": [
    "def main(pdf_path):\n",
    "    text = extract_text_from_pdf(pdf_path)\n",
    "    title = generate_title(text)\n",
    "    return title\n",
    "\n",
    "if __name__ == \"__main__\":\n",
    "    pdf_path = \"/home/arunav/Downloads/jeff103.pdf\"\n",
    "    title = main(pdf_path)\n",
    "    print(\"Generated Title:\", title)\n",
    "    "
   ]
  }
 ],
 "metadata": {
  "kernelspec": {
   "display_name": "tf-gpu",
   "language": "python",
   "name": "python3"
  },
  "language_info": {
   "codemirror_mode": {
    "name": "ipython",
    "version": 3
   },
   "file_extension": ".py",
   "mimetype": "text/x-python",
   "name": "python",
   "nbconvert_exporter": "python",
   "pygments_lexer": "ipython3",
   "version": "3.11.9"
  }
 },
 "nbformat": 4,
 "nbformat_minor": 2
}
