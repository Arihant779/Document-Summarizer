{
 "cells": [
  {
   "cell_type": "code",
   "execution_count": 41,
   "metadata": {},
   "outputs": [
    {
     "name": "stderr",
     "output_type": "stream",
     "text": [
      "/home/arunav/.conda/envs/tf-gpu/lib/python3.11/site-packages/tqdm/auto.py:21: TqdmWarning: IProgress not found. Please update jupyter and ipywidgets. See https://ipywidgets.readthedocs.io/en/stable/user_install.html\n",
      "  from .autonotebook import tqdm as notebook_tqdm\n",
      "2024-07-08 21:23:58.310938: I tensorflow/core/util/port.cc:113] oneDNN custom operations are on. You may see slightly different numerical results due to floating-point round-off errors from different computation orders. To turn them off, set the environment variable `TF_ENABLE_ONEDNN_OPTS=0`.\n",
      "2024-07-08 21:23:58.335795: I tensorflow/core/platform/cpu_feature_guard.cc:210] This TensorFlow binary is optimized to use available CPU instructions in performance-critical operations.\n",
      "To enable the following instructions: AVX2 AVX512F AVX512_VNNI AVX512_BF16 FMA, in other operations, rebuild TensorFlow with the appropriate compiler flags.\n",
      "2024-07-08 21:23:59.172388: W tensorflow/compiler/tf2tensorrt/utils/py_utils.cc:38] TF-TRT Warning: Could not find TensorRT\n"
     ]
    }
   ],
   "source": [
    "import spacy\n",
    "from pyvis.network import Network\n",
    "from transformers import pipeline\n"
   ]
  },
  {
   "cell_type": "code",
   "execution_count": 42,
   "metadata": {},
   "outputs": [
    {
     "name": "stderr",
     "output_type": "stream",
     "text": [
      "No model was supplied, defaulted to distilbert/distilbert-base-cased-distilled-squad and revision 626af31 (https://huggingface.co/distilbert/distilbert-base-cased-distilled-squad).\n",
      "Using a pipeline without specifying a model name and revision in production is not recommended.\n",
      "Hardware accelerator e.g. GPU is available in the environment, but no `device` argument is passed to the `Pipeline` object. Model will be on CPU.\n"
     ]
    },
    {
     "name": "stdout",
     "output_type": "stream",
     "text": [
      "Relationships: [('Once upon a time, there was a young prince named Arthur.', 'He embarked on a quest to find a magical sword', 'He embarked on a quest to find a magical sword.'), ('He embarked on a quest to find a magical sword.', 'he met a wise old man who gave him a map', 'Along the way, he met a wise old man who gave him a map.'), ('Along the way, he met a wise old man who gave him a map.', 'navigated through a dark forest and reached a hidden cave', 'With the map, Arthur navigated through a dark forest and reached a hidden cave.'), ('With the map, Arthur navigated through a dark forest and reached a hidden cave.', 'he found the sword guarded by a dragon', 'Inside the cave, he found the sword guarded by a dragon.'), ('Inside the cave, he found the sword guarded by a dragon.', 'After a fierce battle, Arthur defeated the dragon', 'After a fierce battle, Arthur defeated the dragon and claimed the sword.')]\n"
     ]
    }
   ],
   "source": [
    "# Load the SpaCy NLP model\n",
    "nlp = spacy.load('en_core_web_sm')\n",
    "\n",
    "# Load the Hugging Face transformers pipeline for question answering\n",
    "qa_pipeline = pipeline(\"question-answering\")\n",
    "\n",
    "# Sample story text\n",
    "text = \"\"\"Once upon a time, there was a young prince named Arthur. He embarked on a quest to find a magical sword. Along the way, he met a wise old man who gave him a map. With the map, Arthur navigated through a dark forest and reached a hidden cave. Inside the cave, he found the sword guarded by a dragon. After a fierce battle, Arthur defeated the dragon and claimed the sword.\"\"\"\n",
    "\n",
    "# Process the text with SpaCy\n",
    "doc = nlp(text)\n",
    "\n",
    "# Extract sentences\n",
    "sentences = [sent.text for sent in doc.sents]\n",
    "\n",
    "# Function to extract relationships using the QA pipeline\n",
    "def extract_relationships(sentences, context):\n",
    "    relationships = []\n",
    "    for i in range(len(sentences) - 1):\n",
    "        question = f\"What happens after '{sentences[i]}'?\"\n",
    "        result = qa_pipeline(question=question, context=context)\n",
    "        answer = result['answer']\n",
    "        relationships.append((sentences[i], answer, sentences[i + 1]))\n",
    "    return relationships\n",
    "\n",
    "# Extract relationships for the entire story\n",
    "relationships = extract_relationships(sentences, text)\n",
    "\n",
    "print(\"Relationships:\", relationships)\n"
   ]
  },
  {
   "cell_type": "code",
   "execution_count": 43,
   "metadata": {},
   "outputs": [
    {
     "name": "stdout",
     "output_type": "stream",
     "text": [
      "Warning: When  cdn_resources is 'local' jupyter notebook has issues displaying graphics on chrome/safari. Use cdn_resources='in_line' or cdn_resources='remote' if you have issues viewing graphics in a notebook.\n",
      "story_flowchart.html\n"
     ]
    },
    {
     "data": {
      "text/html": [
       "\n",
       "        <iframe\n",
       "            width=\"100%\"\n",
       "            height=\"600px\"\n",
       "            src=\"story_flowchart.html\"\n",
       "            frameborder=\"0\"\n",
       "            allowfullscreen\n",
       "            \n",
       "        ></iframe>\n",
       "        "
      ],
      "text/plain": [
       "<IPython.lib.display.IFrame at 0x7ef570f1b250>"
      ]
     },
     "execution_count": 43,
     "metadata": {},
     "output_type": "execute_result"
    }
   ],
   "source": [
    "# Create a Pyvis Network object\n",
    "net = Network(notebook=True, directed=True)\n",
    "\n",
    "# Add nodes and edges based on relationships\n",
    "for rel in relationships:\n",
    "    net.add_node(rel[0], label=rel[0])\n",
    "    net.add_node(rel[1], label=rel[1])\n",
    "    net.add_edge(rel[0], rel[1], title=rel[1])\n",
    "\n",
    "# Ensure the nodes are connected in a sequential manner\n",
    "for i in range(len(relationships) - 1):\n",
    "    net.add_edge(relationships[i][1], relationships[i + 1][0])\n",
    "\n",
    "# Generate the visualization and save it as an HTML file\n",
    "net.show(\"flow_chart_2.html\")\n"
   ]
  }
 ],
 "metadata": {
  "kernelspec": {
   "display_name": "tf-gpu",
   "language": "python",
   "name": "python3"
  },
  "language_info": {
   "codemirror_mode": {
    "name": "ipython",
    "version": 3
   },
   "file_extension": ".py",
   "mimetype": "text/x-python",
   "name": "python",
   "nbconvert_exporter": "python",
   "pygments_lexer": "ipython3",
   "version": "3.11.9"
  }
 },
 "nbformat": 4,
 "nbformat_minor": 2
}
