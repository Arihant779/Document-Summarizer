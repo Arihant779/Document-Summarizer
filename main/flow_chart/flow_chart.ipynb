{
 "cells": [
  {
   "cell_type": "code",
   "execution_count": 1,
   "metadata": {},
   "outputs": [
    {
     "name": "stderr",
     "output_type": "stream",
     "text": [
      "/home/arunav/.conda/envs/tf-gpu/lib/python3.11/site-packages/tqdm/auto.py:21: TqdmWarning: IProgress not found. Please update jupyter and ipywidgets. See https://ipywidgets.readthedocs.io/en/stable/user_install.html\n",
      "  from .autonotebook import tqdm as notebook_tqdm\n",
      "2024-07-08 21:15:15.720069: I tensorflow/core/util/port.cc:113] oneDNN custom operations are on. You may see slightly different numerical results due to floating-point round-off errors from different computation orders. To turn them off, set the environment variable `TF_ENABLE_ONEDNN_OPTS=0`.\n",
      "2024-07-08 21:15:15.750217: I tensorflow/core/platform/cpu_feature_guard.cc:210] This TensorFlow binary is optimized to use available CPU instructions in performance-critical operations.\n",
      "To enable the following instructions: AVX2 AVX512F AVX512_VNNI AVX512_BF16 FMA, in other operations, rebuild TensorFlow with the appropriate compiler flags.\n",
      "2024-07-08 21:15:16.305383: W tensorflow/compiler/tf2tensorrt/utils/py_utils.cc:38] TF-TRT Warning: Could not find TensorRT\n"
     ]
    }
   ],
   "source": [
    "from transformers import TFAutoModelForSeq2SeqLM, AutoTokenizer\n",
    "import tensorflow as tf\n",
    "from sentence_transformers import SentenceTransformer\n",
    "import spacy\n",
    "from sklearn.metrics.pairwise import cosine_similarity\n",
    "import numpy as np\n",
    "from pyvis.network import Network\n"
   ]
  },
  {
   "cell_type": "code",
   "execution_count": 2,
   "metadata": {},
   "outputs": [],
   "source": [
    "text = \"In a tiny village, a curious girl named Anaya discovered a magical, titleless book in the old library. As she read, she was transported into a world of enchanted forests and talking animals, meeting a brave explorer named Aiden. Together, they embarked on thrilling adventures, solving ancient riddles and rescuing kingdoms. When it was time to return, Aiden reminded Anaya that the magic was always within her. Back in the library, Anaya shared her tales with the villagers, inspiring them to dream and explore, keeping the magic alive in their hearts.\""
   ]
  },
  {
   "cell_type": "code",
   "execution_count": 3,
   "metadata": {},
   "outputs": [
    {
     "name": "stderr",
     "output_type": "stream",
     "text": [
      "2024-07-08 21:15:19.215636: I external/local_xla/xla/stream_executor/cuda/cuda_executor.cc:998] successful NUMA node read from SysFS had negative value (-1), but there must be at least one NUMA node, so returning NUMA node zero. See more at https://github.com/torvalds/linux/blob/v6.0/Documentation/ABI/testing/sysfs-bus-pci#L344-L355\n",
      "2024-07-08 21:15:19.220261: I external/local_xla/xla/stream_executor/cuda/cuda_executor.cc:998] successful NUMA node read from SysFS had negative value (-1), but there must be at least one NUMA node, so returning NUMA node zero. See more at https://github.com/torvalds/linux/blob/v6.0/Documentation/ABI/testing/sysfs-bus-pci#L344-L355\n",
      "2024-07-08 21:15:19.223572: I external/local_xla/xla/stream_executor/cuda/cuda_executor.cc:998] successful NUMA node read from SysFS had negative value (-1), but there must be at least one NUMA node, so returning NUMA node zero. See more at https://github.com/torvalds/linux/blob/v6.0/Documentation/ABI/testing/sysfs-bus-pci#L344-L355\n",
      "2024-07-08 21:15:19.227324: I external/local_xla/xla/stream_executor/cuda/cuda_executor.cc:998] successful NUMA node read from SysFS had negative value (-1), but there must be at least one NUMA node, so returning NUMA node zero. See more at https://github.com/torvalds/linux/blob/v6.0/Documentation/ABI/testing/sysfs-bus-pci#L344-L355\n",
      "2024-07-08 21:15:19.230448: I external/local_xla/xla/stream_executor/cuda/cuda_executor.cc:998] successful NUMA node read from SysFS had negative value (-1), but there must be at least one NUMA node, so returning NUMA node zero. See more at https://github.com/torvalds/linux/blob/v6.0/Documentation/ABI/testing/sysfs-bus-pci#L344-L355\n",
      "2024-07-08 21:15:19.233545: I external/local_xla/xla/stream_executor/cuda/cuda_executor.cc:998] successful NUMA node read from SysFS had negative value (-1), but there must be at least one NUMA node, so returning NUMA node zero. See more at https://github.com/torvalds/linux/blob/v6.0/Documentation/ABI/testing/sysfs-bus-pci#L344-L355\n",
      "2024-07-08 21:15:19.371383: I external/local_xla/xla/stream_executor/cuda/cuda_executor.cc:998] successful NUMA node read from SysFS had negative value (-1), but there must be at least one NUMA node, so returning NUMA node zero. See more at https://github.com/torvalds/linux/blob/v6.0/Documentation/ABI/testing/sysfs-bus-pci#L344-L355\n",
      "2024-07-08 21:15:19.374554: I external/local_xla/xla/stream_executor/cuda/cuda_executor.cc:998] successful NUMA node read from SysFS had negative value (-1), but there must be at least one NUMA node, so returning NUMA node zero. See more at https://github.com/torvalds/linux/blob/v6.0/Documentation/ABI/testing/sysfs-bus-pci#L344-L355\n",
      "2024-07-08 21:15:19.375809: I external/local_xla/xla/stream_executor/cuda/cuda_executor.cc:998] successful NUMA node read from SysFS had negative value (-1), but there must be at least one NUMA node, so returning NUMA node zero. See more at https://github.com/torvalds/linux/blob/v6.0/Documentation/ABI/testing/sysfs-bus-pci#L344-L355\n",
      "2024-07-08 21:15:19.377202: I tensorflow/core/common_runtime/gpu/gpu_device.cc:1928] Created device /job:localhost/replica:0/task:0/device:GPU:0 with 6199 MB memory:  -> device: 0, name: NVIDIA GeForce RTX 4060 Laptop GPU, pci bus id: 0000:01:00.0, compute capability: 8.9\n",
      "All PyTorch model weights were used when initializing TFT5ForConditionalGeneration.\n",
      "\n",
      "All the weights of TFT5ForConditionalGeneration were initialized from the PyTorch model.\n",
      "If your task is similar to the task the model of the checkpoint was trained on, you can already use TFT5ForConditionalGeneration for predictions without further training.\n",
      "WARNING: All log messages before absl::InitializeLog() is called are written to STDERR\n",
      "I0000 00:00:1720453520.482066   21969 service.cc:145] XLA service 0x43789b60 initialized for platform Host (this does not guarantee that XLA will be used). Devices:\n",
      "I0000 00:00:1720453520.482083   21969 service.cc:153]   StreamExecutor device (0): Host, Default Version\n",
      "2024-07-08 21:15:20.484407: I tensorflow/compiler/mlir/tensorflow/utils/dump_mlir_util.cc:268] disabling MLIR crash reproducer, set env var `MLIR_CRASH_REPRODUCER_DIRECTORY` to enable.\n",
      "I0000 00:00:1720453520.497193   21969 device_compiler.h:188] Compiled cluster using XLA!  This line is logged at most once for the lifetime of the process.\n"
     ]
    },
    {
     "name": "stdout",
     "output_type": "stream",
     "text": [
      "Summary: a girl named Anaya discovered a book in the old library in a tiny village. she was transported into a world of enchanted forests and talking animals. they embarked on thrilling adventures, solving ancient riddles and rescuing kingdoms.\n",
      "Key Sentences: ['she was transported into a world of enchanted forests and talking animals', 'a girl named Anaya discovered a book in the old library in a tiny village', 'they embarked on thrilling adventures, solving ancient riddles and rescuing kingdoms.']\n",
      "Relationships: [('into', 'world', 'she was transported into a world of enchanted forests and talking animals'), ('of', 'forests', 'she was transported into a world of enchanted forests and talking animals'), ('discovered', 'girl', 'a girl named Anaya discovered a book in the old library in a tiny village'), ('discovered', 'book', 'a girl named Anaya discovered a book in the old library in a tiny village'), ('in', 'library', 'a girl named Anaya discovered a book in the old library in a tiny village'), ('in', 'village', 'a girl named Anaya discovered a book in the old library in a tiny village'), ('embarked', 'they', 'they embarked on thrilling adventures, solving ancient riddles and rescuing kingdoms.'), ('on', 'adventures', 'they embarked on thrilling adventures, solving ancient riddles and rescuing kingdoms.'), ('solving', 'riddles', 'they embarked on thrilling adventures, solving ancient riddles and rescuing kingdoms.'), ('rescuing', 'kingdoms', 'they embarked on thrilling adventures, solving ancient riddles and rescuing kingdoms.')]\n",
      "Warning: When  cdn_resources is 'local' jupyter notebook has issues displaying graphics on chrome/safari. Use cdn_resources='in_line' or cdn_resources='remote' if you have issues viewing graphics in a notebook.\n",
      "mind_map.html\n"
     ]
    },
    {
     "data": {
      "text/html": [
       "\n",
       "        <iframe\n",
       "            width=\"100%\"\n",
       "            height=\"600px\"\n",
       "            src=\"mind_map.html\"\n",
       "            frameborder=\"0\"\n",
       "            allowfullscreen\n",
       "            \n",
       "        ></iframe>\n",
       "        "
      ],
      "text/plain": [
       "<IPython.lib.display.IFrame at 0x7bca30d68190>"
      ]
     },
     "execution_count": 3,
     "metadata": {},
     "output_type": "execute_result"
    }
   ],
   "source": [
    "\n",
    "# Step 1: Text Summarization with TensorFlow\n",
    "model_name = \"t5-small\"\n",
    "tokenizer = AutoTokenizer.from_pretrained(model_name)\n",
    "model = TFAutoModelForSeq2SeqLM.from_pretrained(model_name)\n",
    "inputs = tokenizer.encode(\"summarize: \" + text, return_tensors=\"tf\", max_length=512, truncation=True)\n",
    "with tf.device('/CPU:0'):\n",
    "    summary_ids = model.generate(inputs, max_length=150, min_length=40, length_penalty=2.0, num_beams=4, early_stopping=True)\n",
    "summary = tokenizer.decode(summary_ids[0], skip_special_tokens=True)\n",
    "print(\"Summary:\", summary)\n",
    "\n",
    "# Step 2: Key Sentence Extraction\n",
    "def extract_key_sentences(text, num_sentences=5):\n",
    "    model = SentenceTransformer('all-MiniLM-L6-v2')\n",
    "    sentences = text.split('. ')\n",
    "    embeddings = model.encode(sentences)\n",
    "    similarities = cosine_similarity(np.array(embeddings))\n",
    "    sentence_scores = similarities.sum(axis=1)\n",
    "    top_sentence_indices = sentence_scores.argsort()[-num_sentences:][::-1]\n",
    "    key_sentences = [sentences[i] for i in top_sentence_indices]\n",
    "    return key_sentences\n",
    "\n",
    "key_sentences = extract_key_sentences(summary)\n",
    "print(\"Key Sentences:\", key_sentences)\n",
    "\n",
    "# Step 3: Dependency Parsing and Hierarchical Structuring\n",
    "nlp = spacy.load('en_core_web_sm')\n",
    "parsed_sentences = [nlp(sentence) for sentence in key_sentences]\n",
    "relationships = []\n",
    "for sent in parsed_sentences:\n",
    "    for token in sent:\n",
    "        if token.dep_ in (\"nsubj\", \"dobj\", \"iobj\", \"pobj\", \"attr\"):\n",
    "            relationships.append((token.head.text, token.text, sent.text))\n",
    "print(\"Relationships:\", relationships)\n",
    "\n",
    "# Step 4: Concept Mapping with Pyvis\n",
    "net = Network(notebook=True, directed=True)\n",
    "for rel in relationships:\n",
    "    net.add_node(rel[0], label=rel[0])\n",
    "    net.add_node(rel[1], label=rel[1])\n",
    "    net.add_edge(rel[0], rel[1], title=rel[2])\n",
    "net.show(\"flow_chart.html\")\n"
   ]
  }
 ],
 "metadata": {
  "kernelspec": {
   "display_name": "tf-gpu",
   "language": "python",
   "name": "python3"
  },
  "language_info": {
   "codemirror_mode": {
    "name": "ipython",
    "version": 3
   },
   "file_extension": ".py",
   "mimetype": "text/x-python",
   "name": "python",
   "nbconvert_exporter": "python",
   "pygments_lexer": "ipython3",
   "version": "3.11.9"
  }
 },
 "nbformat": 4,
 "nbformat_minor": 2
}
